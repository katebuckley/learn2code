{
 "cells": [
  {
   "cell_type": "markdown",
   "metadata": {},
   "source": [
    "- Ready to code?\n",
    "- How do we tell a computer how to do something?\n",
    "- First we write a statement in a code box like the one below. Then we will ask the computer to run it.\n",
    "- Let's try using the print function.  It's got 2 brackets just after it `()` which mean we want to *call* this function\n",
    "- Click in the box and press Ctrl-Enter (hold down the ctrl key and press enter)"
   ]
  },
  {
   "cell_type": "code",
   "execution_count": null,
   "metadata": {},
   "outputs": [],
   "source": [
    "print()"
   ]
  },
  {
   "cell_type": "markdown",
   "metadata": {},
   "source": [
    "- Mmmm, that didn't do much. Just added a blank line.\n",
    "- That is because we didn't tell the computer what we wanted to print.\n",
    "- The way we do that is to pass an argument to the function. Here's an example.\n",
    "- Let's run it  (Hint. click it and press *Ctrl-Enter*)"
   ]
  },
  {
   "cell_type": "code",
   "execution_count": null,
   "metadata": {},
   "outputs": [],
   "source": [
    "print(\"Hello\")"
   ]
  },
  {
   "cell_type": "markdown",
   "metadata": {},
   "source": [
    "- Ok, this time the computer said Hello!\n",
    "- So why do we have those funny characters there?    `\"`\n",
    "- This `\"` character is called a *doublequote* (because it has two ticks on either side)\n",
    "- When we put one before and after some other characters we are using what's called a *String* and it shows up in red\n",
    "- The *print* function lets us pass a *String* to it by putting it between the brackets\n",
    "- When we execute it, it prints that *String* to the screen\n",
    "- Let's try another one (Hint. you want to execute the statement below)"
   ]
  },
  {
   "cell_type": "code",
   "execution_count": null,
   "metadata": {},
   "outputs": [],
   "source": [
    "print(\"Hello, I'm a String\")"
   ]
  },
  {
   "cell_type": "markdown",
   "metadata": {},
   "source": [
    "- This time, it printed something different.\n",
    "- So the *print* function will print whatever you ask it to.\n",
    "- You notice that the quotes aren't shown in what it prints, just what is between the quotes."
   ]
  },
  {
   "cell_type": "markdown",
   "metadata": {},
   "source": [
    "- Great, so now we know how to execute some statements.\n",
    "- The ones above were *valid* statements, which means the computer understands them\n",
    "- Below are some *invalid* statements.  When you execute them the computer will give an error\n",
    "- Give them a try."
   ]
  },
  {
   "cell_type": "code",
   "execution_count": null,
   "metadata": {},
   "outputs": [],
   "source": [
    "print("
   ]
  },
  {
   "cell_type": "code",
   "execution_count": null,
   "metadata": {},
   "outputs": [],
   "source": [
    "print)"
   ]
  },
  {
   "cell_type": "code",
   "execution_count": null,
   "metadata": {},
   "outputs": [],
   "source": [
    "print(\"Hello)"
   ]
  },
  {
   "cell_type": "code",
   "execution_count": null,
   "metadata": {},
   "outputs": [],
   "source": [
    "print(Hello\")"
   ]
  },
  {
   "cell_type": "code",
   "execution_count": null,
   "metadata": {},
   "outputs": [],
   "source": [
    "pr1nt(\"Hello\")"
   ]
  },
  {
   "cell_type": "code",
   "execution_count": null,
   "metadata": {},
   "outputs": [],
   "source": [
    "print \"Hello\""
   ]
  },
  {
   "cell_type": "markdown",
   "metadata": {},
   "source": [
    "- So we got different errors for all these *invalid* statements.\n",
    "- You can try fixing the statements above to make them valid\n",
    "- When you execute them again, the error will go away"
   ]
  },
  {
   "cell_type": "markdown",
   "metadata": {},
   "source": [
    "- Cool, what else can we ask the computer to do\n",
    "- Let try the *input* function. Execute the statement below and type `Hello` in the box and press *Enter*"
   ]
  },
  {
   "cell_type": "code",
   "execution_count": null,
   "metadata": {},
   "outputs": [],
   "source": [
    "input()"
   ]
  },
  {
   "cell_type": "markdown",
   "metadata": {},
   "source": [
    "- What *input* does is ask the user to _enter_ something in a box called a _prompt_.\n",
    "- Notice it also did something else different to what the *print* function did\n",
    "- You see that the function had some _output_ - see the `Out` on the left in red with a number after it\n",
    "- After that it *outputs* what you typed in the box `Hello`\n",
    "- Let's tell the *input* function that we want the user to enter their name.\n",
    "- We do this by creating a String that contains the question and passing it to the *input* function.\n",
    "- Execute the following statement and see how the box appears after the question.\n",
    "- Type your name in the box and press *Enter*."
   ]
  },
  {
   "cell_type": "code",
   "execution_count": null,
   "metadata": {},
   "outputs": [],
   "source": [
    "input(\"what is your name? \")"
   ]
  },
  {
   "cell_type": "markdown",
   "metadata": {},
   "source": [
    "- This time it _output_ your name.\n",
    "- Ok good.\n",
    "- Problem is the computer has forgotten your name already!\n",
    "- Let's tell the computer to remember your name by creating a _variable_.\n",
    "- Think of a variable like a piece of paper.  You can write something on the paper to remember it.\n",
    "- To create a variable we \n",
    "1. type in a name for the variable - let's call it firstName\n",
    "2. put an = after it\n",
    "3. give it a value.  Let's try a string which contains your name.  \n",
    "- Execute the following. (you can change the statement to use your name)"
   ]
  },
  {
   "cell_type": "code",
   "execution_count": null,
   "metadata": {},
   "outputs": [],
   "source": [
    "firstName = \"John\""
   ]
  },
  {
   "cell_type": "markdown",
   "metadata": {},
   "source": [
    "- Did you press *Ctrl-Enter*?\n",
    "- Good, notice anything happen?\n",
    "- The computer didn't *print* anything or *output* anything this time\n",
    "- You may have spotted the number on the left go up by 1. \n",
    "- (If you pressed *Ctrl-Enter* a few times, it will have gone up by more)\n",
    "- This means it executed the statement and now it remembers your first name.\n",
    "- How do we know it remembers?\n",
    "- Let's ask it to print it.\n",
    "- Execute the following."
   ]
  },
  {
   "cell_type": "code",
   "execution_count": null,
   "metadata": {},
   "outputs": [],
   "source": [
    "print(firstName)"
   ]
  },
  {
   "cell_type": "markdown",
   "metadata": {},
   "source": [
    "- Ok, it printed out your name.\n",
    "- Notice this time we didn't use quotes.  That is because we want it to print what's in the variable.\n",
    "- What would happen if we used the quotes.  Let's try."
   ]
  },
  {
   "cell_type": "code",
   "execution_count": null,
   "metadata": {},
   "outputs": [],
   "source": [
    "print(\"firstName\")"
   ]
  },
  {
   "cell_type": "markdown",
   "metadata": {},
   "source": [
    "- Ah, that's not what we want, it didn't print your first name. So...\n",
    "- When we pass a *String* to a *function*, it prints exactly what we pass it - without the quotes\n",
    "- When we pass a *variable* to a *function*, it prints the _value_ that was *assigned* to the variable.\n",
    "- Let's try another way of assigning a value to a variable\n",
    "- (Assigning a value to a variable is like writing something on a piece of paper)\n"
   ]
  },
  {
   "cell_type": "code",
   "execution_count": null,
   "metadata": {},
   "outputs": [],
   "source": [
    "surname = input(\"What is your surname? \")"
   ]
  },
  {
   "cell_type": "markdown",
   "metadata": {},
   "source": [
    "- So instead of assigning a String to a variable, this time we get the _user_ to enter it by using the input function\n",
    "- A *user* is the person who will be using our program. For this lesson you are the user.\n",
    "- Before we saw the *input* function outputs whatever the user types in the box\n",
    "- Therefore we can save that in a _new_ *variable*\n",
    "- This time we call the variable `surname` because that is what we want to store in it.\n",
    "- Let's check that is worked by printing it"
   ]
  },
  {
   "cell_type": "code",
   "execution_count": null,
   "metadata": {},
   "outputs": [],
   "source": [
    "print(surname)"
   ]
  },
  {
   "cell_type": "markdown",
   "metadata": {},
   "source": [
    "- Ok cool.\n",
    "- (btw, you remember why we leave out the quotes, right?)\n",
    "- So now the computer knows your first name and surname\n",
    "- Let's try to get it to print out your full name\n",
    "- How do we do that?\n",
    "- Well your first name and surname are stored in two different variables as Strings\n",
    "- We can stick 2 Strings together by using the `+` *operator*\n",
    "- Wait a minute, isn't `+` for adding?\n",
    "- Well in python we also use + for what we call _concatenation_ which is a fancy word for sticking Strings together\n",
    "- It's like having two sheets of paper one with your first name written on it and the other with your second name\n",
    "- If I hold them up together, this is like concatenating.\n",
    "- Let's try it."
   ]
  },
  {
   "cell_type": "code",
   "execution_count": null,
   "metadata": {},
   "outputs": [],
   "source": [
    "firstName + surname"
   ]
  },
  {
   "cell_type": "markdown",
   "metadata": {},
   "source": [
    "- Ok, pretty close to what we want but there is no space in the middle\n",
    "- With `+` we can concatenate many strings together.\n",
    "- Let's try this instead"
   ]
  },
  {
   "cell_type": "code",
   "execution_count": null,
   "metadata": {},
   "outputs": [],
   "source": [
    "firstName + \" \" + surname"
   ]
  },
  {
   "cell_type": "markdown",
   "metadata": {},
   "source": [
    "- Ok, that's better\n",
    "- How did it work?\n",
    "- Well we put a String in the middle that only contains a space so the computer put that between your first name and surname\n",
    "- That also works as an argument to a function. Let's try with print"
   ]
  },
  {
   "cell_type": "code",
   "execution_count": null,
   "metadata": {},
   "outputs": [],
   "source": [
    "print(firstName + \" \" + surname)"
   ]
  },
  {
   "cell_type": "markdown",
   "metadata": {},
   "source": [
    "- This time it printed your full name instead of outputing it\n",
    "- In a real python program, you would need to use *print* to see the value\n",
    "- In a *jupyter notebook* like this one, it also shows us the *output* of a function which is handy."
   ]
  },
  {
   "cell_type": "markdown",
   "metadata": {},
   "source": [
    "- Ok, so far we've been executing statements that were already in the notebook\n",
    "- Now let's try creating some of your own!\n",
    "- To do this, click in this box and then press the plus icon under file\n",
    "- This will create a new Code box where you can type your statement.\n",
    "- Give it a try using *print*."
   ]
  },
  {
   "cell_type": "markdown",
   "metadata": {},
   "source": [
    "- After you typed it, you executed it right?"
   ]
  },
  {
   "cell_type": "markdown",
   "metadata": {},
   "source": [
    "- Ok, let's try a few more things\n",
    "- (Hint. if you get stuck, scroll up to see the examples we did before)\n",
    "- First, tell the computer to ask the user what county they live in and assign it to a variable\n",
    "- (Hint create a variable called county and use the input function)"
   ]
  },
  {
   "cell_type": "markdown",
   "metadata": {},
   "source": [
    "- Print the value of the variable to check it worked"
   ]
  },
  {
   "cell_type": "markdown",
   "metadata": {},
   "source": [
    "- Tell the computer to say:\n",
    "`Hello John Buckley, Cork is a nice place to live`\n",
    "- Only have it use your name and county instead"
   ]
  },
  {
   "cell_type": "markdown",
   "metadata": {},
   "source": [
    "- Did you use the variables from before?\n",
    "- Or did you use Strings?\n",
    "- Try both\n",
    "- Were you able to get the punctuation correct?"
   ]
  },
  {
   "cell_type": "markdown",
   "metadata": {},
   "source": [
    "- Great, you have completed your first lesson.\n",
    "- You learned about:\n",
    "\n",
    "1. Executing statements\n",
    "2. The print function\n",
    "3. Function arguments\n",
    "4. The String Datatype\n",
    "5. The input function\n",
    "6. Variables - assigning values and printing values\n",
    "7. String concatenation\n",
    "8. Creating statements for your own programs!\n",
    "\n",
    "- Click the Save icon under File to save your handywork.\n",
    "- Congratulations, see you in Lesson 2!"
   ]
  }
 ],
 "metadata": {
  "kernelspec": {
   "display_name": "Python 3",
   "language": "python",
   "name": "python3"
  },
  "language_info": {
   "codemirror_mode": {
    "name": "ipython",
    "version": 3
   },
   "file_extension": ".py",
   "mimetype": "text/x-python",
   "name": "python",
   "nbconvert_exporter": "python",
   "pygments_lexer": "ipython3",
   "version": "3.6.4"
  }
 },
 "nbformat": 4,
 "nbformat_minor": 2
}
