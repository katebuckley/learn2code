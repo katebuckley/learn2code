{
 "cells": [
  {
   "cell_type": "markdown",
   "metadata": {},
   "source": [
    "- In Lesson 1, we played with Strings. A String is a *Datatype*\n",
    "- In this lesson, we will talk about another *Datatype* called _Boolean_\n",
    "- A *DataType* says what kind of values a *variable* may have\n",
    "- *Boolean* variables may only be _True_ or _False_\n",
    "- *False* is another way of saying not true\n",
    "- Try running the following statement to check"
   ]
  },
  {
   "cell_type": "code",
   "execution_count": null,
   "metadata": {},
   "outputs": [],
   "source": [
    "not True"
   ]
  },
  {
   "cell_type": "markdown",
   "metadata": {},
   "source": [
    "- Also not False is True\n",
    "- Try running this to check"
   ]
  },
  {
   "cell_type": "code",
   "execution_count": null,
   "metadata": {},
   "outputs": [],
   "source": [
    "not False"
   ]
  },
  {
   "cell_type": "markdown",
   "metadata": {},
   "source": [
    "So we can see that the `not` operator changes a Boolean value to its opposite"
   ]
  },
  {
   "cell_type": "markdown",
   "metadata": {},
   "source": [
    "- Here are some examples of boolean variables"
   ]
  },
  {
   "cell_type": "code",
   "execution_count": null,
   "metadata": {},
   "outputs": [],
   "source": [
    "big = True"
   ]
  },
  {
   "cell_type": "code",
   "execution_count": null,
   "metadata": {},
   "outputs": [],
   "source": [
    "fast = False"
   ]
  },
  {
   "cell_type": "markdown",
   "metadata": {},
   "source": [
    "- *Boolean* variables are very handy in programming because they let the program do different things each time we run them\n",
    "- We use the _if_ statement to make a program do different things\n",
    "- Here is an example"
   ]
  },
  {
   "cell_type": "code",
   "execution_count": null,
   "metadata": {},
   "outputs": [],
   "source": [
    "if (big):\n",
    "    print(\"It is big\")"
   ]
  },
  {
   "cell_type": "markdown",
   "metadata": {},
   "source": [
    "- Execute the above statement and you will see `It is big` printed.\n",
    "- This is because the value of *big* is *True*\n",
    "- For and *if* statement, you put a boolean between the brackets\n",
    "- Then you put a `:` character - called a colon\n",
    "- And then you *indent* the statement you want to run if the boolean is True.  Indenting is when we push the statement to the right.\n",
    "- Now try this"
   ]
  },
  {
   "cell_type": "code",
   "execution_count": null,
   "metadata": {},
   "outputs": [],
   "source": [
    "if (fast):\n",
    "    print(\"It is fast\")"
   ]
  },
  {
   "cell_type": "markdown",
   "metadata": {},
   "source": [
    "- This time nothing was printed.  That is because *fast* is *False*.\n",
    "- So the *if* statemnt lets the program decide whether to run another statement or not\n",
    "- We can have more than one statement if we like"
   ]
  },
  {
   "cell_type": "code",
   "execution_count": null,
   "metadata": {},
   "outputs": [],
   "source": [
    "if (big):\n",
    "    print(\"It is big\")\n",
    "    print(\"I like big things\")"
   ]
  },
  {
   "cell_type": "markdown",
   "metadata": {},
   "source": [
    "- Both print statements ran this time\n",
    "- This is because both of the prints were indented after the line with the *if*\n",
    "- What happens if we don't indent the statement?\n",
    "- Try this"
   ]
  },
  {
   "cell_type": "code",
   "execution_count": null,
   "metadata": {},
   "outputs": [],
   "source": [
    "if (fast):\n",
    "    print(\"It is fast\")\n",
    "print(\"I like fast\")   "
   ]
  },
  {
   "cell_type": "markdown",
   "metadata": {},
   "source": [
    "- So `I like fast` was printed even though *fast* was *False*\n",
    "- Because we didn't indent it, it became a new statement.  \n",
    "- Our program therefore had 2 statements.  Up to now, we have only had one statement at a time.  Real programs have lots of statements."
   ]
  },
  {
   "cell_type": "markdown",
   "metadata": {},
   "source": [
    "- We can use the `not` operator if we want to check the opposite of what a variable means\n",
    "- Try the following two examples"
   ]
  },
  {
   "cell_type": "code",
   "execution_count": null,
   "metadata": {},
   "outputs": [],
   "source": [
    "if not fast:\n",
    "    print(\"It is slow\")"
   ]
  },
  {
   "cell_type": "code",
   "execution_count": null,
   "metadata": {},
   "outputs": [],
   "source": [
    "if not big:\n",
    "    print(\"It is small\")"
   ]
  },
  {
   "cell_type": "markdown",
   "metadata": {},
   "source": [
    "- What if we want to print something regardless if it is fast or not.\n",
    "- We can do this by adding an *else* to the *if* statement"
   ]
  },
  {
   "cell_type": "code",
   "execution_count": null,
   "metadata": {},
   "outputs": [],
   "source": [
    "if (fast):\n",
    "    print(\"It is fast\")\n",
    "else:\n",
    "    print(\"It is slow\")"
   ]
  },
  {
   "cell_type": "markdown",
   "metadata": {},
   "source": [
    "- This time `It is slow` was printed because *fast* was *false* and therefore the print after *else* were run instead of the one after *if*"
   ]
  },
  {
   "cell_type": "markdown",
   "metadata": {},
   "source": [
    "- Let do a small game\n",
    "- The game is to guess the right name like in the Story\n",
    "- First we tell the computer what the right name is by creating a variable"
   ]
  },
  {
   "cell_type": "code",
   "execution_count": null,
   "metadata": {},
   "outputs": [],
   "source": [
    "name = \"Rumpelstilsken\""
   ]
  },
  {
   "cell_type": "markdown",
   "metadata": {},
   "source": [
    "- Next we tell the computer to ask the user to guess the name\n",
    "- Execute the following statement and enter a guess"
   ]
  },
  {
   "cell_type": "code",
   "execution_count": null,
   "metadata": {},
   "outputs": [],
   "source": [
    "guess = input(\"Guess my name: \")"
   ]
  },
  {
   "cell_type": "markdown",
   "metadata": {},
   "source": [
    " - In order to check if the guess was right, we need to compare it with the right answer\n",
    " - We can use the `==` operator to check for us.  This compares two Strings to see if they are the same.\n",
    " - (this is different to `=` which assigns a value to a variable)"
   ]
  },
  {
   "cell_type": "code",
   "execution_count": null,
   "metadata": {},
   "outputs": [],
   "source": [
    "guess == name"
   ]
  },
  {
   "cell_type": "markdown",
   "metadata": {},
   "source": [
    "- So when we execute the above statement `False` is output\n",
    "- `False` is a boolean, so we can use it for an *if* statement. Cool, let's try"
   ]
  },
  {
   "cell_type": "code",
   "execution_count": null,
   "metadata": {},
   "outputs": [],
   "source": [
    "if (guess == name):\n",
    "    print(\"Ahh, who told you my name!\")\n",
    "else:\n",
    "    print(\"No, that's not my name\")"
   ]
  },
  {
   "cell_type": "markdown",
   "metadata": {},
   "source": [
    "- You can play the game a few times by running the *input* statement and then the *if* statement"
   ]
  },
  {
   "cell_type": "markdown",
   "metadata": {},
   "source": [
    "- So the `==` operator can work with two Strings and you get a Boolean\n",
    "- *String* and *Boolean* are examples of different _DataTypes_\n",
    "- Later we will see some other *DataTypes* that `==` can be used with but you will always get a Boolean out. \n",
    "- Therefore `==` is very useful to use with `if` statements.\n",
    "- We can also check if two Strings are _not_ the same by using `!=`. Exclamations `!` are used in python to mean *not* so `!=` means not equal and `==` means equal\n",
    "- Here is another way of playing the game"
   ]
  },
  {
   "cell_type": "code",
   "execution_count": null,
   "metadata": {},
   "outputs": [],
   "source": [
    "if (guess != name):\n",
    "    print(\"You will never guess my name\")\n",
    "else:\n",
    "    print(\"Noooooooooo\")"
   ]
  },
  {
   "cell_type": "markdown",
   "metadata": {},
   "source": [
    "- So we use `!=` to check two Strings are not the same\n"
   ]
  },
  {
   "cell_type": "markdown",
   "metadata": {},
   "source": [
    "- So far, we have played a round of the game by executing the two statements separately\n",
    "- Next we will try to create a program that can keep playing the game till the end\n",
    "- First we need to learn a new statement `while`.  Like `if` it takes a boolean and executes the indented statements.  However when it has run the indented statements, it checks the boolean again until it becomes false"
   ]
  },
  {
   "cell_type": "code",
   "execution_count": null,
   "metadata": {},
   "outputs": [],
   "source": [
    "guess = \"\"\n",
    "while (guess != name):\n",
    "    guess = input(\"You will never guess my name. \")\n",
    "print(\"Ahh, who told you my name\")"
   ]
  },
  {
   "cell_type": "markdown",
   "metadata": {},
   "source": [
    "- Cool, how does this work\n",
    "- First we assign an empty value to *guess* so that we don't use the value from earlier\n",
    "- Then each time around the while loop, we check that we haven't gotten the right answer or else we give user another guess\n",
    "- If we have got the right answer, guess and name will be equal and `!=` comparison is false, therefore we break out of the loop and go to the last statement before the program ends"
   ]
  },
  {
   "cell_type": "markdown",
   "metadata": {},
   "source": [
    "* Congratulations, you have completed Lesson 2\n",
    "* You have learned:\n",
    "* Boolean DataType\n",
    "* Some Boolean Logic\n",
    "* Comparison operators `==` and `!=`\n",
    "* if statement\n",
    "* if statement with an else\n",
    "* while statement"
   ]
  }
 ],
 "metadata": {
  "kernelspec": {
   "display_name": "Python 3",
   "language": "python",
   "name": "python3"
  },
  "language_info": {
   "codemirror_mode": {
    "name": "ipython",
    "version": 3
   },
   "file_extension": ".py",
   "mimetype": "text/x-python",
   "name": "python",
   "nbconvert_exporter": "python",
   "pygments_lexer": "ipython3",
   "version": "3.6.4"
  }
 },
 "nbformat": 4,
 "nbformat_minor": 2
}
